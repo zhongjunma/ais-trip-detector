{
 "metadata": {
  "language_info": {
   "codemirror_mode": {
    "name": "ipython",
    "version": 3
   },
   "file_extension": ".py",
   "mimetype": "text/x-python",
   "name": "python",
   "nbconvert_exporter": "python",
   "pygments_lexer": "ipython3",
   "version": "3.8.3-final"
  },
  "orig_nbformat": 2,
  "kernelspec": {
   "name": "python3",
   "display_name": "Python 3"
  }
 },
 "nbformat": 4,
 "nbformat_minor": 2,
 "cells": [
  {
   "cell_type": "code",
   "execution_count": 2,
   "metadata": {},
   "outputs": [],
   "source": [
    "import pandas as pd"
   ]
  },
  {
   "cell_type": "code",
   "execution_count": 5,
   "metadata": {},
   "outputs": [],
   "source": [
    "portDf = pd.read_excel('data/PortInfo.xlsx')\n",
    "portDf.to_csv('data/PortInfo.csv',index=False, sep='|')"
   ]
  },
  {
   "cell_type": "code",
   "execution_count": 4,
   "metadata": {},
   "outputs": [
    {
     "output_type": "stream",
     "name": "stdout",
     "text": [
      "<class 'pandas.core.frame.DataFrame'>\nRangeIndex: 9641 entries, 0 to 9640\nData columns (total 12 columns):\n #   Column          Non-Null Count  Dtype  \n---  ------          --------------  -----  \n 0   id              9641 non-null   int64  \n 1   name            9641 non-null   object \n 2   countryCode     9622 non-null   object \n 3   countryName     9622 non-null   object \n 4   area            9641 non-null   object \n 5   type            9641 non-null   object \n 6   admiraltyChart  2943 non-null   object \n 7   admiraltyPilot  2951 non-null   object \n 8   unctadLocode    9641 non-null   object \n 9   timezone        9641 non-null   object \n 10  lat             9641 non-null   float64\n 11  lng             9641 non-null   float64\ndtypes: float64(2), int64(1), object(9)\nmemory usage: 904.0+ KB\n"
     ]
    }
   ],
   "source": [
    "portDf.info()"
   ]
  },
  {
   "cell_type": "code",
   "execution_count": null,
   "metadata": {},
   "outputs": [],
   "source": []
  }
 ]
}